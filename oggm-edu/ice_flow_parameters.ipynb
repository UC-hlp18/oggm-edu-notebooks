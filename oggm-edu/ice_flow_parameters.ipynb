{
 "cells": [
  {
   "cell_type": "markdown",
   "metadata": {},
   "source": [
    "# Influence of ice flow parameters on glacier size"
   ]
  },
  {
   "cell_type": "markdown",
   "metadata": {},
   "source": [
    "<div class=\"alert alert-success\">\n",
    "The goal of this notebook is:\n",
    "\n",
    "- To be able to create a glacier and change the creep parameter ($A$) in Glen's Law, and the basal sliding parameter ($f_s$) from Oerlemans' study of Nigardsbreen, and to be able to explain the influences of the two parameters on glacier size and shape.\n",
    "<div>"
   ]
  },
  {
   "cell_type": "markdown",
   "metadata": {},
   "source": [
    "The motion of glaciers is determined by two main processes: \n",
    "\n",
    "- the internal deformation of ice due to gravity (creep)\n",
    "- sliding of the glacier over the bed\n",
    "\n",
    "These processes can be described by parameters in a glacier mmodel and this notebook we will examine their influence on glaciers using OGGM."
   ]
  },
  {
   "cell_type": "markdown",
   "metadata": {},
   "source": [
    "First, we have to import the relevant classes from OGGM Edu"
   ]
  },
  {
   "cell_type": "code",
   "execution_count": null,
   "metadata": {},
   "outputs": [],
   "source": [
    "from oggm_edu import GlacierBed, MassBalance, Glacier, GlacierCollection"
   ]
  },
  {
   "cell_type": "markdown",
   "metadata": {},
   "source": [
    "Let's create a glacier"
   ]
  },
  {
   "cell_type": "code",
   "execution_count": null,
   "metadata": {},
   "outputs": [],
   "source": [
    "# Bed\n",
    "bed = GlacierBed(top=3400, bottom=1500, width=300)\n",
    "# Mass balance\n",
    "mass_balance = MassBalance(ela=3000, gradient=4)\n",
    "# Glaicer\n",
    "glacier = Glacier(bed=bed, mass_balance=mass_balance)"
   ]
  },
  {
   "cell_type": "markdown",
   "metadata": {},
   "source": [
    "## Glen's creep parameter ($A$)"
   ]
  },
  {
   "cell_type": "markdown",
   "metadata": {},
   "source": [
    "We start with looking at the internal deformation of the ice, which results in so called creeping.\n",
    "To describe it we use  Glens's creep parameter.\n",
    "Our glacier, and OGGM, defaults to set Glen's creep parameter to the \"standard value\" defined by [Cuffey and Paterson, (2010)](https://booksite.elsevier.com/samplechapters/9780123694614/01~Front_Matter.pdf): $2.4\\cdot 10^{-24}$.\n",
    "We can check this by accessing the `.creep` attribute"
   ]
  },
  {
   "cell_type": "code",
   "execution_count": null,
   "metadata": {},
   "outputs": [],
   "source": [
    "glacier.creep"
   ]
  },
  {
   "cell_type": "markdown",
   "metadata": {},
   "source": [
    "The parameter relates shear stress to the rate of deformation and is assumed to be constant.\n",
    "The value for $A$ depends on the ice crystal size, fabric, concentration and type of impurities, as well as on ice temperature [(Oerlemans, 2001)](https://doi.org/10.3189/172756502781831557).\n",
    "\n",
    "Next we will change the creep parameter and see what happens.\n",
    "An easy way to do this is to create a `GlacierCollection` and change the creep parameter for some of the glaciers in the collection.\n",
    "Here we will also introduce the `.fill()` method of the `GlacierCollection`, which is useful to quickly create a collection with multiple glaciers."
   ]
  },
  {
   "cell_type": "code",
   "execution_count": null,
   "metadata": {},
   "outputs": [],
   "source": [
    "collection = GlacierCollection()"
   ]
  },
  {
   "cell_type": "code",
   "execution_count": null,
   "metadata": {},
   "outputs": [],
   "source": [
    "# This fills the collection with 3 copies of the initial glacier.\n",
    "# Note that .fill copy the initial glacier as well, hence it will\n",
    "# remain unchanged.\n",
    "collection.fill(glacier, n=3)\n",
    "collection"
   ]
  },
  {
   "cell_type": "markdown",
   "metadata": {},
   "source": [
    " We can then change the creep parameter of the glaciers within the collection"
   ]
  },
  {
   "cell_type": "code",
   "execution_count": null,
   "metadata": {},
   "outputs": [],
   "source": [
    "# Multiply and divide by 10.\n",
    "# We pass partial expressions to change the initial value. \n",
    "# Passing an empty string leaves the value un-affected\n",
    "# Note that running this cell multiple times will continue to change\n",
    "# the value.\n",
    "collection.change_attributes({\"creep\": [\"* 10\", \"\", \"/ 10\"]})"
   ]
  },
  {
   "cell_type": "markdown",
   "metadata": {},
   "source": [
    "And progress the glaciers within the collection to year 800:"
   ]
  },
  {
   "cell_type": "code",
   "execution_count": null,
   "metadata": {},
   "outputs": [],
   "source": [
    "collection.progress_to_year(800)"
   ]
  },
  {
   "cell_type": "markdown",
   "metadata": {},
   "source": [
    "And plot the collection"
   ]
  },
  {
   "cell_type": "code",
   "execution_count": null,
   "metadata": {},
   "outputs": [],
   "source": [
    "collection.plot()"
   ]
  },
  {
   "cell_type": "code",
   "execution_count": null,
   "metadata": {},
   "outputs": [],
   "source": [
    "collection.plot_history()"
   ]
  },
  {
   "cell_type": "markdown",
   "metadata": {},
   "source": [
    "<div class=\"alert alert-success\">\n",
    "<b>Then answer the following questions:</b>\n",
    "\n",
    "- Why does a smaller value for Glen's creep parameter give a longer and thicker glacier? \n",
    "\n",
    "- What could a higher value for the creep factor represent in terms of the properties of the ice?\n",
    "\n",
    "*Write your answers in the text box below*\n",
    "<div>"
   ]
  },
  {
   "cell_type": "markdown",
   "metadata": {},
   "source": [
    "*(Your answers here)*"
   ]
  },
  {
   "cell_type": "markdown",
   "metadata": {},
   "source": [
    "## Basal sliding  parameter ($f_s$)"
   ]
  },
  {
   "cell_type": "markdown",
   "metadata": {},
   "source": [
    "Basal sliding occurs when there is a water film between the ice and the ground. In his seminal paper [(Oerlemans 1997, Annals of Glaciology)](https://doi.org/10.3189/S0260305500012489), Hans Oerlemans uses a so-called \"sliding parameter\" representing basal sliding.\n",
    "For our glacier this parameter is available under the `.basal_sliding` attribute.\n",
    "By default it is set to 0, but it can be modified"
   ]
  },
  {
   "cell_type": "code",
   "execution_count": null,
   "metadata": {},
   "outputs": [],
   "source": [
    "# Sliding parameter\n",
    "glacier.basal_sliding"
   ]
  },
  {
   "cell_type": "code",
   "execution_count": null,
   "metadata": {},
   "outputs": [],
   "source": [
    "# Create another collection\n",
    "collection = GlacierCollection()\n",
    "collection.fill(glacier, n=2)"
   ]
  },
  {
   "cell_type": "markdown",
   "metadata": {},
   "source": [
    "Change the basal sliding parameter of one of the glaciers in the collection to $5.7 \\cdot 10^{-20}$ and progress the collection"
   ]
  },
  {
   "cell_type": "code",
   "execution_count": null,
   "metadata": {},
   "outputs": [],
   "source": [
    "# Here we demonstrate another way to change attributes of glaciers\n",
    "# in the collection quickly.\n",
    "# The dictionary can contain multiple key-value pairs.\n",
    "collection.change_attributes({'basal_sliding':[0, 5.7e-20]})"
   ]
  },
  {
   "cell_type": "code",
   "execution_count": null,
   "metadata": {},
   "outputs": [],
   "source": [
    "collection.progress_to_year(800)"
   ]
  },
  {
   "cell_type": "markdown",
   "metadata": {},
   "source": [
    "Take a look at the glaciers"
   ]
  },
  {
   "cell_type": "code",
   "execution_count": null,
   "metadata": {},
   "outputs": [],
   "source": [
    "collection.plot()"
   ]
  },
  {
   "cell_type": "code",
   "execution_count": null,
   "metadata": {},
   "outputs": [],
   "source": [
    "collection.plot_history()"
   ]
  },
  {
   "cell_type": "markdown",
   "metadata": {},
   "source": [
    "Initially the glacier with higher basal sliding is advancing down the bed quicker compared to the glacier without basal sliding.\n",
    "However, at a certain point in time the larger volume of Glacier 0 lead to a stronger ice flow, and the glacier can extend further down.\n",
    "\n",
    "In the [documentation](https://docs.oggm.org/en/latest/ice-dynamics.html?highlight=oerleman#ice-flow) of OGGM you find also information about the theory of the ice flow parameters and the application."
   ]
  },
  {
   "cell_type": "markdown",
   "metadata": {},
   "source": [
    "## References\n",
    "\n",
    "¹ Cuffey, K., and W. S. B. Paterson (2010). The Physics of Glaciers, Butterworth‐Heinemann, Oxford, U.K.\n",
    "\n",
    "² Oerlemans, J. (2001). *Glaciers and climate change.* CRC Press. (p. 59)"
   ]
  },
  {
   "cell_type": "markdown",
   "metadata": {},
   "source": [
    "## What's next?"
   ]
  },
  {
   "cell_type": "markdown",
   "metadata": {},
   "source": [
    "<div class=\"alert alert-success\">\n",
    "<b>This notebook is part 1 the hand-in assignment for Week 2 of the glacier modelling module.</b>\n",
    "\n",
    "Save your notebook with your name in the file name and download the notebook file to your own computer. The buttons to save, download and print your notebook are under the File menu in the OGGM classroom server (which is probably where you are now). You can also print the file from the same menu by using the File > Print command to make a .pdf file to hand in.\n",
    "\n",
    "\n",
    "- You hand in the notebook file (.ipynb) and a printed version (.pdf) of the same notebook through the UC Learn page > Assessment > OGGM_2 <div>"
   ]
  }
 ],
 "metadata": {
  "hide_input": false,
  "kernelspec": {
   "display_name": "Python 3 (ipykernel)",
   "language": "python",
   "name": "python3"
  },
  "language_info": {
   "codemirror_mode": {
    "name": "ipython",
    "version": 3
   },
   "file_extension": ".py",
   "mimetype": "text/x-python",
   "name": "python",
   "nbconvert_exporter": "python",
   "pygments_lexer": "ipython3",
   "version": "3.11.4"
  },
  "toc": {
   "base_numbering": 1,
   "nav_menu": {},
   "number_sections": false,
   "sideBar": true,
   "skip_h1_title": true,
   "title_cell": "Table of Contents",
   "title_sidebar": "Contents",
   "toc_cell": false,
   "toc_position": {},
   "toc_section_display": true,
   "toc_window_display": false
  }
 },
 "nbformat": 4,
 "nbformat_minor": 4
}
