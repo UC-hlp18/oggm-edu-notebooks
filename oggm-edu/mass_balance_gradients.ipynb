{
 "cells": [
  {
   "cell_type": "markdown",
   "metadata": {},
   "source": [
    "# Mass balance gradients (MBG) and their influence on glacier flow"
   ]
  },
  {
   "cell_type": "markdown",
   "metadata": {},
   "source": [
    "In the intro notebook we touched briefly on the mass balance gradient of a glacier. This is what we are going to take a closer look at now.\n",
    "If the concept of mass balance is completely new to you, have a short read about it [here](http://www.antarcticglaciers.org/glacier-processes/introduction-glacier-mass-balance/), up to the paragraph \"*So what is Glacier Mass Balance?*\".\n",
    "In this notebook we will set up a few simple glaciers to further explore what characteristics of glaciers change with different mass balance gradients. We will also take a look at the topics of volume and response time."
   ]
  },
  {
   "cell_type": "markdown",
   "metadata": {},
   "source": [
    "<div class=\"alert alert-success\">\n",
    "\n",
    "Goals of this notebook are to be able to explain the terms:\n",
    "\n",
    "- Mass balance gradient\n",
    "- Equilibrium state\n",
    "- Response time\n",
    "\n",
    "<div>"
   ]
  },
  {
   "cell_type": "markdown",
   "metadata": {},
   "source": [
    "First, we have to import the relevant classes"
   ]
  },
  {
   "cell_type": "code",
   "execution_count": null,
   "metadata": {},
   "outputs": [],
   "source": [
    "from oggm_edu import MassBalance, GlacierBed, Glacier, GlacierCollection"
   ]
  },
  {
   "cell_type": "markdown",
   "metadata": {},
   "source": [
    "## Initialising the glacier\n",
    "We start by setting up a simple glacier with a linear bedrock (see [Getting started with OGGM Edu](edu_intro.ipynb)) to generate a starting point for our experiment."
   ]
  },
  {
   "cell_type": "code",
   "execution_count": null,
   "metadata": {},
   "outputs": [],
   "source": [
    "# Bed\n",
    "bed = GlacierBed(top=3400, bottom=1500, width=400)\n",
    "# Mass balance\n",
    "mass_balance = MassBalance(ela=3000, gradient=4)\n",
    "# Glacier\n",
    "glacier = Glacier(bed=bed, mass_balance=mass_balance)"
   ]
  },
  {
   "cell_type": "markdown",
   "metadata": {},
   "source": [
    "## Changing the mass balance gradient (MBG)\n",
    "The MBG is defined as the change of the mass balance with altitude [¹](#References). It depends strongly on the local climate at the glacier [²](#References).\n",
    "\n",
    "Let's take a look at the effects of the MBG by creating a few glaciers with different gradients. In the intro notebook our glacier had a gradient of 4 mm/m so lets add a glacier with a weaker gradient and one with a stronger gradient. \n",
    "\n",
    "We will again make use of the `GlacierCollection` to quickly progress and visualise the glaciers."
   ]
  },
  {
   "cell_type": "code",
   "execution_count": null,
   "metadata": {},
   "outputs": [],
   "source": [
    "collection = GlacierCollection()\n",
    "# Fill the collection. This time we change the attributes on creation.\n",
    "collection.fill(glacier, n=3, attributes_to_change=\n",
    "                {'gradient':[0.3, 4, 15]}\n",
    "               )"
   ]
  },
  {
   "cell_type": "markdown",
   "metadata": {},
   "source": [
    "### Creating a complex mass balance profile\n",
    "It is also possible to create a more complex mass balance profile.\n",
    "This is achieved by passing a list of gradients, and another list with the altitude of the breakpoints between them."
   ]
  },
  {
   "cell_type": "code",
   "execution_count": null,
   "metadata": {},
   "outputs": [],
   "source": [
    "# Add complex mb profile\n",
    "complex_mb = MassBalance(ela=3000, gradient=[3, 7, 10, 15],\n",
    "                         breakpoints=[2700, 2250, 1800])\n",
    "glacier_complex_mb = Glacier(bed=bed, mass_balance=complex_mb)"
   ]
  },
  {
   "cell_type": "code",
   "execution_count": null,
   "metadata": {},
   "outputs": [],
   "source": [
    "# Add the new glacier to the collection.\n",
    "collection.add(glacier_complex_mb)"
   ]
  },
  {
   "cell_type": "code",
   "execution_count": null,
   "metadata": {},
   "outputs": [],
   "source": [
    "# Progress collection to the same year.\n",
    "collection.progress_to_year(300)"
   ]
  },
  {
   "cell_type": "code",
   "execution_count": null,
   "metadata": {},
   "outputs": [],
   "source": [
    "collection.plot()"
   ]
  },
  {
   "cell_type": "code",
   "execution_count": null,
   "metadata": {},
   "outputs": [],
   "source": [
    "collection.plot_mass_balance()"
   ]
  },
  {
   "cell_type": "markdown",
   "metadata": {},
   "source": [
    "A stronger mass balance gradient (flatter line in plot above) implies a larger change of the mass balance with altitude.\n",
    "We can see this in the plot above: The annual mass balance hardly changes with altitude for the glacier with the weakest mass balance gradient (blue) while there is a considerable difference between the top and bottom annual mass balance for the glacier with the strongest mass balance gradient (green).\n",
    "\n",
    "This in turn affects the growth of the glacier.\n",
    "A strong mass balance gradient implies that more ice is added to the accumulation zone while more ice is removed from the ablation zone each year compared to a glacier with a weaker gradient.\n",
    "This results in a greater ice flux and the glacier thus grows faster.\n",
    "This is why the glacier with the strongest gradient exhibits the largest growth during our experiments (Green glacier in Collection plot above).\n"
   ]
  },
  {
   "cell_type": "markdown",
   "metadata": {},
   "source": [
    "<div class=\"alert alert-success\">\n",
    "<b>Then answer the question where do we find glaciers with high mass balance gradients?</b> \n",
    "    \n",
    "You can look at the World Glacier Explorer tool and the Randolph Glacier Inventory (RGI), which are linked to from the course home page, to find examples of glaciers with different characteristics, or think about glaciers that you may have visited or learnt about in other courses at UC. Give the names of the glaciers and a description of their setting that results in a high mass balance gradient.\n",
    "\n",
    "<b>(optional additional question) Where do we find glaciers with low mass balance gradients, and what are the characteristics of these glaciers?</b> \n",
    "\n",
    "*Write your answers to the question(s) in the text box below*\n",
    "</div>"
   ]
  },
  {
   "cell_type": "markdown",
   "metadata": {},
   "source": [
    "*(Your answer here)*"
   ]
  },
  {
   "cell_type": "markdown",
   "metadata": {},
   "source": [
    "## Equilibrium state "
   ]
  },
  {
   "cell_type": "markdown",
   "metadata": {},
   "source": [
    "Glaciers change their geometry as a way to adapt to the climate[³](#References). If the accumulation increases, the glacier will grow further down below the ELA to increase the ablation. Similarly, if the temperature rises and the ablation increases, the glacier length will decrease.\n",
    "If the climate remains constant for a long enough time, glaciers will reach an equilibrium state with its climate, where the accumulation = ablation [⁴](#References).\n",
    "\n",
    "With this in mind, we will take a look at how fast our glaciers, with different gradients, reach this state and compare their shapes:"
   ]
  },
  {
   "cell_type": "code",
   "execution_count": null,
   "metadata": {},
   "outputs": [],
   "source": [
    "# We reset the collection.\n",
    "collection = GlacierCollection()\n",
    "# Fill the collection. This time we change the attributes on creation.\n",
    "collection.fill(glacier, n=3, attributes_to_change=\n",
    "                {'gradient':[0.3, 4, 15]}\n",
    "               )"
   ]
  },
  {
   "cell_type": "code",
   "execution_count": null,
   "metadata": {},
   "outputs": [],
   "source": [
    "# First we progress the glaciers to equilibrium.\n",
    "collection.progress_to_equilibrium()"
   ]
  },
  {
   "cell_type": "code",
   "execution_count": null,
   "metadata": {},
   "outputs": [],
   "source": [
    "# Plot it\n",
    "collection.plot()"
   ]
  },
  {
   "cell_type": "markdown",
   "metadata": {},
   "source": [
    "The different glaciers reach their equilibrium state after a different number of years. What does the figure show us? Which glacier is the thickest and longest? Let's look at specific numbers: "
   ]
  },
  {
   "cell_type": "code",
   "execution_count": null,
   "metadata": {},
   "outputs": [],
   "source": [
    "collection"
   ]
  },
  {
   "cell_type": "markdown",
   "metadata": {},
   "source": [
    "The glacier with the strongest gradient reaches the equilibrium state first. This is also the largest and longest glacier."
   ]
  },
  {
   "cell_type": "markdown",
   "metadata": {},
   "source": [
    "## Response time\n",
    "The glacier response time is the period of time a glacier needs to adjust its geometry to changes in mass balance caused by climate change and reach a new equilibrium state.\n",
    "There are a some different definitions for its calculation, OGGM-Edu use the definition from Oerlemans (see formula below) [⁵](#References).\n",
    "\n",
    "A OGGM-Edu glacier has an attribute `.response_time` which is calculated based on difference between the last two equilibrium states in the glacier history.\n",
    "So far we've only showed you how to progress a glacier to equilibrium, but not how to leave it and reach a second one.\n",
    "This will be the first step to getting the response time of a glacier.\n",
    "\n",
    "We use the glacier from the start of the notebook."
   ]
  },
  {
   "cell_type": "code",
   "execution_count": null,
   "metadata": {},
   "outputs": [],
   "source": [
    "# Check the state, everything should be zero/nan here.\n",
    "glacier"
   ]
  },
  {
   "cell_type": "markdown",
   "metadata": {},
   "source": [
    "First we progress the glacier to equilibrium"
   ]
  },
  {
   "cell_type": "code",
   "execution_count": null,
   "metadata": {},
   "outputs": [],
   "source": [
    "glacier.progress_to_equilibrium()"
   ]
  },
  {
   "cell_type": "code",
   "execution_count": null,
   "metadata": {},
   "outputs": [],
   "source": [
    "glacier.plot()"
   ]
  },
  {
   "cell_type": "markdown",
   "metadata": {},
   "source": [
    " We can access the stored equilibrium states of a glacier"
   ]
  },
  {
   "cell_type": "code",
   "execution_count": null,
   "metadata": {},
   "outputs": [],
   "source": [
    "glacier.eq_states"
   ]
  },
  {
   "cell_type": "markdown",
   "metadata": {},
   "source": [
    "Now we want to set up a climate change scenario for the glacier.\n",
    "This is easily done with the `.add_temperature_bias` method.\n",
    "This method takes a desired temperature bias ($+/-$) and a duration, which specifies how long it will take for the glacier to reach the climate state.\n",
    "For instance, if we set the bias to 1. and the duration to 50, it will take 50 years for the climate to become 1 degree warmer.\n",
    "\n",
    "When a glacier has a climate change scenario the `progress_` methods will internally work a little bit differently, but this is not anything you will notice.\n",
    "\n",
    "Since we are purely interested in the response of the glacier, we create a climate change scenario with the duration of 1 year."
   ]
  },
  {
   "cell_type": "code",
   "execution_count": null,
   "metadata": {},
   "outputs": [],
   "source": [
    "# Add a climate change scenario\n",
    "glacier.add_temperature_bias(bias=1., duration=1)"
   ]
  },
  {
   "cell_type": "markdown",
   "metadata": {},
   "source": [
    "<div class=\"alert alert-success\">\n",
    "    <details><summary><b>\n",
    "        How does the ELA respond if we raise the temperature?</b> <i>Click for a hint</i></summary>\n",
    "        Raising the temperature will increase the size of the ablation area of the glacier, and thus the ELA will rise (increase).\n",
    "        </details>\n",
    "</div>"
   ]
  },
  {
   "cell_type": "code",
   "execution_count": null,
   "metadata": {},
   "outputs": [],
   "source": [
    "# We can then progress the glacier to equilibrium again\n",
    "glacier.progress_to_equilibrium()"
   ]
  },
  {
   "cell_type": "code",
   "execution_count": null,
   "metadata": {},
   "outputs": [],
   "source": [
    "glacier.plot()"
   ]
  },
  {
   "cell_type": "code",
   "execution_count": null,
   "metadata": {},
   "outputs": [],
   "source": [
    "glacier.eq_states"
   ]
  },
  {
   "cell_type": "markdown",
   "metadata": {},
   "source": [
    "The next step is to calculate the response times for our glaciers. One could think that it is as simple as looking at the years above and do a simple subtraction. However this is not the case! In reality the rate at which a glacier changes is ever decreasing and  a complete equilibrium state is never really achieved. Because of this the response time is considered the time it has taken the glacier to complete most of the adjustment, more specifically all but a factor of $1/e$.  \n",
    "\n",
    "For numerical models like our glaciers it is common to use the [volume response time](https://www.tandfonline.com/doi/pdf/10.1080/00040851.1997.12003238?needAccess=true), from Oerlemans, 1997 [⁵](#References):\n",
    "\n",
    "$$\n",
    "\\tau = t \\left(V=V_2 - \\frac{V_2 - V_1}{e}\\right)\n",
    "$$\n",
    "\n",
    "where $V_1$ and $V_2$ corresponds to the glacier volume at the initial and new equilibrium state respectively. \n",
    "\n",
    "Luckily this is done by our glacier object, so we can just take look at the `.response_time` attribute"
   ]
  },
  {
   "cell_type": "code",
   "execution_count": null,
   "metadata": {},
   "outputs": [],
   "source": [
    "glacier.response_time"
   ]
  },
  {
   "cell_type": "markdown",
   "metadata": {},
   "source": [
    "or just look at the representation"
   ]
  },
  {
   "cell_type": "code",
   "execution_count": null,
   "metadata": {},
   "outputs": [],
   "source": [
    "glacier"
   ]
  },
  {
   "cell_type": "markdown",
   "metadata": {},
   "source": [
    "Now that we have introduced the concept of response time we can apply it and see how the different mass balance gradients affect the response time.\n",
    "For this we need a new collection."
   ]
  },
  {
   "cell_type": "code",
   "execution_count": null,
   "metadata": {},
   "outputs": [],
   "source": [
    "# Bed\n",
    "bed = GlacierBed(top=3400, bottom=1500, width=400)\n",
    "# Mass balance\n",
    "mass_balance = MassBalance(ela=3000, gradient=4)\n",
    "# Glacier\n",
    "glacier = Glacier(bed=bed, mass_balance=mass_balance)"
   ]
  },
  {
   "cell_type": "code",
   "execution_count": null,
   "metadata": {},
   "outputs": [],
   "source": [
    "collection = GlacierCollection()\n",
    "# Fill the collection. This time we change the attributes on creation.\n",
    "collection.fill(glacier, n=3, attributes_to_change=\n",
    "                {'gradient':[1, 4, 15]}\n",
    "               )"
   ]
  },
  {
   "cell_type": "code",
   "execution_count": null,
   "metadata": {},
   "outputs": [],
   "source": [
    "collection.progress_to_equilibrium()"
   ]
  },
  {
   "cell_type": "code",
   "execution_count": null,
   "metadata": {},
   "outputs": [],
   "source": [
    "collection"
   ]
  },
  {
   "cell_type": "markdown",
   "metadata": {},
   "source": [
    "We then have to set up a climate change scenario for the glaciers in the collection"
   ]
  },
  {
   "cell_type": "code",
   "execution_count": null,
   "metadata": {},
   "outputs": [],
   "source": [
    "# Same scenario for all the glaciers.\n",
    "collection.glaciers[0].add_temperature_bias(bias=1., duration=1)\n",
    "collection.glaciers[1].add_temperature_bias(bias=1., duration=1)\n",
    "collection.glaciers[2].add_temperature_bias(bias=1., duration=1)"
   ]
  },
  {
   "cell_type": "code",
   "execution_count": null,
   "metadata": {},
   "outputs": [],
   "source": [
    "# Progress to equilibrium again\n",
    "collection.progress_to_equilibrium()"
   ]
  },
  {
   "cell_type": "code",
   "execution_count": null,
   "metadata": {},
   "outputs": [],
   "source": [
    "collection"
   ]
  },
  {
   "cell_type": "code",
   "execution_count": null,
   "metadata": {},
   "outputs": [],
   "source": [
    "collection.plot_history()"
   ]
  },
  {
   "cell_type": "markdown",
   "metadata": {},
   "source": [
    "We can also look at the state history for one of the glaciers"
   ]
  },
  {
   "cell_type": "code",
   "execution_count": null,
   "metadata": {},
   "outputs": [],
   "source": [
    "# Plots the glacier outline for the equilibrium states.\n",
    "collection.glaciers[0].plot_state_history(eq_states=True)"
   ]
  },
  {
   "cell_type": "markdown",
   "metadata": {},
   "source": [
    "The glacier with weakest MBG need the longest time to adjust to a changed climate compared to the other glaciers. On the other hand, the glacier with the strongest gradient only needs around two decades to adjust its shape to the new climate (A real world example: Franz Josef glacier in New Zealand[⁶](#References))[⁷](#References). The response time of glaciers with weak gradients is in reality much longer than 200 years, actually closer to 2000 years.\n"
   ]
  },
  {
   "cell_type": "markdown",
   "metadata": {},
   "source": [
    "<div class=\"alert alert-success\">\n",
    "    <details><summary><b>Why does the MBG change response time of a glacier? What other factors apart for the MBG do you think affect the response time of a glacier?</b> \n",
    "    \n",
    "<i>Write your answer in the box below and click here for a hint if you wish</i></summary>\n",
    "The MBG affects the how fast the glacier will flow and in turn how fast the shape and size of the glacier can change. In general, we have to consider that the response time also depends on other features like the glacier-type, size, bed slope and average surface elevation. \n",
    "    </details>\n",
    "</div>"
   ]
  },
  {
   "cell_type": "markdown",
   "metadata": {},
   "source": [
    "*(Your answer here)*"
   ]
  },
  {
   "cell_type": "markdown",
   "metadata": {},
   "source": [
    "\n",
    "## References  "
   ]
  },
  {
   "cell_type": "markdown",
   "metadata": {},
   "source": [
    "¹ Rasmussen, L. A., & Andreassen, L. M. (2005). Seasonal mass-balance gradients in Norway. *Journal of Glaciology*, 51(175), 601-606.\n",
    "\n",
    "² Oerlemans, J., & Fortuin, J. P. F. (1992). Sensitivity of glaciers and small ice caps to greenhouse warming. *Science, 258(5079)*, 115-117.\n",
    "\n",
    "³ Oerlemans, J. (2001). *Glaciers and climate change*. CRC Press.\n",
    "\n",
    "⁴ Encyclopedia of snow, ice and glaciers, V.P. Singh, P. Singh, and U.K. Haritashya, Editors. 2011, Springer: Dordrecht, The Netherlands. p. 245-256.\n",
    "\n",
    "⁵ Oerlemans, J. (1997). Climate sensitivity of Franz Josef Glacier, New Zealand, as revealed by numerical modeling. *Arctic and Alpine Research*, 29(2), 233-239.\n",
    "\n",
    "⁶ Anderson, B., Lawson, W., & Owens, I. (2008). Response of Franz Josef Glacier Ka Roimata o Hine Hukatere to climate change. Global and Planetary Change, 63(1), 23-30.\n",
    "\n",
    "⁷ Cuffey, K.M. & Paterson, W.S.B. *The Physics of Glaciers, 4th edition*, 704 (Academic Press, 2010).\n"
   ]
  },
  {
   "cell_type": "markdown",
   "metadata": {},
   "source": [
    "## What's next?"
   ]
  },
  {
   "cell_type": "markdown",
   "metadata": {},
   "source": [
    "<div class=\"alert alert-success\">\n",
    "<b>This notebook is part 2 the hand-in assignment for Week 2 of the glacier modelling module.</b>\n",
    "\n",
    "Save your notebook with your name in the file name and download the notebook file to your own computer. The buttons to save, download and print your notebook are under the File menu in the OGGM classroom server (which is probably where you are now). You can also print the file from the same menu by using the File > Print command to make a .pdf file to hand in.\n",
    "\n",
    "\n",
    "- You hand in the notebook file (.ipynb) and a printed version (.pdf) of the same notebook through the UC Learn page > Assessment > OGGM_2 <div>"
   ]
  }
 ],
 "metadata": {
  "hide_input": false,
  "kernelspec": {
   "display_name": "Python 3 (ipykernel)",
   "language": "python",
   "name": "python3"
  },
  "language_info": {
   "codemirror_mode": {
    "name": "ipython",
    "version": 3
   },
   "file_extension": ".py",
   "mimetype": "text/x-python",
   "name": "python",
   "nbconvert_exporter": "python",
   "pygments_lexer": "ipython3",
   "version": "3.12.4"
  },
  "toc": {
   "base_numbering": 1,
   "nav_menu": {},
   "number_sections": false,
   "sideBar": true,
   "skip_h1_title": true,
   "title_cell": "Table of Contents",
   "title_sidebar": "Contents",
   "toc_cell": false,
   "toc_position": {},
   "toc_section_display": true,
   "toc_window_display": false
  }
 },
 "nbformat": 4,
 "nbformat_minor": 4
}
